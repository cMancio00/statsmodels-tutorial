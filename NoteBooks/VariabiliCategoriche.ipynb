{
 "cells": [
  {
   "attachments": {},
   "cell_type": "markdown",
   "metadata": {},
   "source": [
    "# Variabili categoriche\n",
    "\n",
    "Una variabile categorica rappresenta valori discreti."
   ]
  },
  {
   "cell_type": "code",
   "execution_count": 1,
   "metadata": {},
   "outputs": [],
   "source": [
    "import pandas as pd \n",
    "\n",
    "df = pd.read_stata(\"../Data/rent99.dta\")\n",
    "df = df.astype({'location': 'int32'})"
   ]
  },
  {
   "attachments": {},
   "cell_type": "markdown",
   "metadata": {},
   "source": [
    "Prendiamo in considerazione la variabile categorica `location`"
   ]
  },
  {
   "cell_type": "code",
   "execution_count": 2,
   "metadata": {},
   "outputs": [
    {
     "data": {
      "text/plain": [
       "1    1794\n",
       "2    1210\n",
       "3      78\n",
       "Name: location, dtype: int64"
      ]
     },
     "execution_count": 2,
     "metadata": {},
     "output_type": "execute_result"
    }
   ],
   "source": [
    "# Vediamo le categorie distinte di location\n",
    "df['location'].value_counts()"
   ]
  },
  {
   "attachments": {},
   "cell_type": "markdown",
   "metadata": {},
   "source": [
    "Quando lavoriamo con variabili categoriche, non possiamo fare semplicemente una regressione lineare, perchè verrebbe trattata come variabile numerica."
   ]
  },
  {
   "attachments": {},
   "cell_type": "markdown",
   "metadata": {},
   "source": [
    "**DA NON FARE!!!**"
   ]
  },
  {
   "cell_type": "code",
   "execution_count": 3,
   "metadata": {},
   "outputs": [
    {
     "name": "stdout",
     "output_type": "stream",
     "text": [
      "                            OLS Regression Results                            \n",
      "==============================================================================\n",
      "Dep. Variable:                rentsqm   R-squared:                       0.008\n",
      "Model:                            OLS   Adj. R-squared:                  0.007\n",
      "Method:                 Least Squares   F-statistic:                     24.05\n",
      "Date:                Tue, 04 Apr 2023   Prob (F-statistic):           9.88e-07\n",
      "Time:                        17:01:28   Log-Likelihood:                -7104.8\n",
      "No. Observations:                3082   AIC:                         1.421e+04\n",
      "Df Residuals:                    3080   BIC:                         1.423e+04\n",
      "Df Model:                           1                                         \n",
      "Covariance Type:            nonrobust                                         \n",
      "==============================================================================\n",
      "                 coef    std err          t      P>|t|      [0.025      0.975]\n",
      "------------------------------------------------------------------------------\n",
      "const          6.5439      0.124     52.911      0.000       6.301       6.786\n",
      "location       0.3931      0.080      4.904      0.000       0.236       0.550\n",
      "==============================================================================\n",
      "Omnibus:                       37.375   Durbin-Watson:                   2.001\n",
      "Prob(Omnibus):                  0.000   Jarque-Bera (JB):               38.225\n",
      "Skew:                           0.264   Prob(JB):                     5.01e-09\n",
      "Kurtosis:                       2.865   Cond. No.                         6.03\n",
      "==============================================================================\n",
      "\n",
      "Notes:\n",
      "[1] Standard Errors assume that the covariance matrix of the errors is correctly specified.\n"
     ]
    }
   ],
   "source": [
    "import statsmodels.api as sm\n",
    "import matplotlib.pyplot as plt\n",
    "\n",
    "y = df['rentsqm']\n",
    "X = df['location']\n",
    "X = sm.add_constant(X)\n",
    "\n",
    "model = sm.OLS(y, X)\n",
    "results = model.fit()\n",
    "print(results.summary())\n"
   ]
  },
  {
   "attachments": {},
   "cell_type": "markdown",
   "metadata": {},
   "source": [
    "**COSA FARE**\n",
    "\n",
    "Dobbiamo creare delle variabili **dummy**.\n",
    "\n",
    "Per farlo aggiungiamo colonne al dataframe in base al numero delle categorie e impostiamo il valore a 1 se appartiene alla categoria, altrimenti lo impostiamo a 0.\n",
    "\n",
    "Durante la regressione dobbiamo togliere una varibile categorica di riferimento, questo perchè avere sia l'intercetta che tutte le variabili di riferimento, porta ad avere una matrice di Design che non è più a rango pieno e quindi non più invertibile.\n",
    "\n",
    "> Cambiare variabile omessa, non cambia il fit del modello.\n",
    "> \n",
    "> Tuttavia, si omette quella centrale o quella più frequente\n",
    "\n",
    "Per fare la regressione specificando che una variabile è categorica utilizziamo la libreria `statsmodels.formula.api`.\n",
    "\n",
    "La dichiarazione è la seguente:\n",
    "\n",
    "```python\n",
    "model = smf.ols(formula='y ~ C(nome_variabile_categorica)', data=nome_dataframe)\n",
    "```\n"
   ]
  },
  {
   "cell_type": "code",
   "execution_count": 4,
   "metadata": {},
   "outputs": [
    {
     "name": "stdout",
     "output_type": "stream",
     "text": [
      "                            OLS Regression Results                            \n",
      "==============================================================================\n",
      "Dep. Variable:                rentsqm   R-squared:                       0.009\n",
      "Model:                            OLS   Adj. R-squared:                  0.008\n",
      "Method:                 Least Squares   F-statistic:                     13.77\n",
      "Date:                Tue, 04 Apr 2023   Prob (F-statistic):           1.11e-06\n",
      "Time:                        17:01:28   Log-Likelihood:                -7103.0\n",
      "No. Observations:                3082   AIC:                         1.421e+04\n",
      "Df Residuals:                    3079   BIC:                         1.423e+04\n",
      "Df Model:                           2                                         \n",
      "Covariance Type:            nonrobust                                         \n",
      "====================================================================================\n",
      "                       coef    std err          t      P>|t|      [0.025      0.975]\n",
      "------------------------------------------------------------------------------------\n",
      "Intercept            6.9565      0.057    121.456      0.000       6.844       7.069\n",
      "C(location)[T.2]     0.3157      0.090      3.498      0.000       0.139       0.493\n",
      "C(location)[T.3]     1.2158      0.281      4.333      0.000       0.666       1.766\n",
      "==============================================================================\n",
      "Omnibus:                       37.423   Durbin-Watson:                   2.002\n",
      "Prob(Omnibus):                  0.000   Jarque-Bera (JB):               38.392\n",
      "Skew:                           0.267   Prob(JB):                     4.60e-09\n",
      "Kurtosis:                       2.879   Cond. No.                         7.03\n",
      "==============================================================================\n",
      "\n",
      "Notes:\n",
      "[1] Standard Errors assume that the covariance matrix of the errors is correctly specified.\n"
     ]
    }
   ],
   "source": [
    "import statsmodels.formula.api as smf\n",
    "\n",
    "model = smf.ols(formula='rentsqm ~ C(location)', data=df)\n",
    "results = model.fit()\n",
    "print(results.summary())"
   ]
  },
  {
   "attachments": {},
   "cell_type": "markdown",
   "metadata": {},
   "source": [
    "Se vogliamo aggiungere anche altre covariate utilizziamo la seguente sintassi:\n",
    "\n",
    "```python\n",
    "model = smf.ols(formula='y ~ C(nome_variabile_categorica) + covariata1 + ...', data=nome_dataframe)\n",
    "```"
   ]
  },
  {
   "cell_type": "code",
   "execution_count": 5,
   "metadata": {},
   "outputs": [
    {
     "name": "stdout",
     "output_type": "stream",
     "text": [
      "                            OLS Regression Results                            \n",
      "==============================================================================\n",
      "Dep. Variable:                rentsqm   R-squared:                       0.135\n",
      "Model:                            OLS   Adj. R-squared:                  0.134\n",
      "Method:                 Least Squares   F-statistic:                     159.5\n",
      "Date:                Tue, 04 Apr 2023   Prob (F-statistic):           4.12e-96\n",
      "Time:                        17:01:28   Log-Likelihood:                -6894.1\n",
      "No. Observations:                3082   AIC:                         1.380e+04\n",
      "Df Residuals:                    3078   BIC:                         1.382e+04\n",
      "Df Model:                           3                                         \n",
      "Covariance Type:            nonrobust                                         \n",
      "====================================================================================\n",
      "                       coef    std err          t      P>|t|      [0.025      0.975]\n",
      "------------------------------------------------------------------------------------\n",
      "Intercept            9.3553      0.125     74.576      0.000       9.109       9.601\n",
      "C(location)[T.2]     0.4646      0.085      5.489      0.000       0.299       0.631\n",
      "C(location)[T.3]     1.7537      0.263      6.656      0.000       1.237       2.270\n",
      "area                -0.0367      0.002    -21.144      0.000      -0.040      -0.033\n",
      "==============================================================================\n",
      "Omnibus:                       12.362   Durbin-Watson:                   2.009\n",
      "Prob(Omnibus):                  0.002   Jarque-Bera (JB):               12.466\n",
      "Skew:                           0.156   Prob(JB):                      0.00196\n",
      "Kurtosis:                       2.985   Cond. No.                         461.\n",
      "==============================================================================\n",
      "\n",
      "Notes:\n",
      "[1] Standard Errors assume that the covariance matrix of the errors is correctly specified.\n"
     ]
    }
   ],
   "source": [
    "model = smf.ols(formula='rentsqm ~ C(location) + area', data=df)\n",
    "results = model.fit()\n",
    "print(results.summary())"
   ]
  },
  {
   "attachments": {},
   "cell_type": "markdown",
   "metadata": {},
   "source": [
    "## Interpretazione\n",
    "\n",
    "### Rimozione di una variabile dummy\n",
    "\n",
    "I coefficienti delle variabili dummy sono **differenze** con la categoria omessa.\n",
    "\n",
    "Ad esempio:\n",
    "\n",
    "Avendo `alocation`, `glocation`, `tlocation` come variabili categoriche e prendendo come riferimento `alocation`,\n",
    "il modello sopra indica che `rentsqm` a parità delle altre covariate (nel nostro caso caso solo `area`) è maggiore di 0.4646 se abbiamo `glocation` rispetto ad avere `alocation`, mentre è maggiore di 1.7537 se abbiamo `tlocation` rispetto a `alocation`.\n",
    "\n",
    "### Rimozione dell'intercetta\n",
    "\n",
    "Rimuovendo l'interetta al posto di una delle variabili dummy, i coefficienti mi indicano il **valore atteso** per ogni categoria, a parità delle altre covariate.\n",
    "> Non sono più differenze, ma **livelli**"
   ]
  },
  {
   "cell_type": "code",
   "execution_count": 6,
   "metadata": {},
   "outputs": [
    {
     "name": "stdout",
     "output_type": "stream",
     "text": [
      "                            OLS Regression Results                            \n",
      "==============================================================================\n",
      "Dep. Variable:                rentsqm   R-squared:                       0.009\n",
      "Model:                            OLS   Adj. R-squared:                  0.008\n",
      "Method:                 Least Squares   F-statistic:                     13.77\n",
      "Date:                Tue, 04 Apr 2023   Prob (F-statistic):           1.11e-06\n",
      "Time:                        17:01:28   Log-Likelihood:                -7103.0\n",
      "No. Observations:                3082   AIC:                         1.421e+04\n",
      "Df Residuals:                    3079   BIC:                         1.423e+04\n",
      "Df Model:                           2                                         \n",
      "Covariance Type:            nonrobust                                         \n",
      "==================================================================================\n",
      "                     coef    std err          t      P>|t|      [0.025      0.975]\n",
      "----------------------------------------------------------------------------------\n",
      "C(location)[1]     6.9565      0.057    121.456      0.000       6.844       7.069\n",
      "C(location)[2]     7.2722      0.070    104.274      0.000       7.136       7.409\n",
      "C(location)[3]     8.1723      0.275     29.751      0.000       7.634       8.711\n",
      "==============================================================================\n",
      "Omnibus:                       37.423   Durbin-Watson:                   2.002\n",
      "Prob(Omnibus):                  0.000   Jarque-Bera (JB):               38.392\n",
      "Skew:                           0.267   Prob(JB):                     4.60e-09\n",
      "Kurtosis:                       2.879   Cond. No.                         4.80\n",
      "==============================================================================\n",
      "\n",
      "Notes:\n",
      "[1] Standard Errors assume that the covariance matrix of the errors is correctly specified.\n"
     ]
    }
   ],
   "source": [
    "model = smf.ols(formula='rentsqm ~ 0 + C(location)', data=df)\n",
    "results = model.fit()\n",
    "print(results.summary())"
   ]
  },
  {
   "attachments": {},
   "cell_type": "markdown",
   "metadata": {},
   "source": [
    "# Interazioni tra variabili\n",
    "\n",
    "Un'interazione è il prodotto tra due variabili.\n",
    "\n",
    "Per eseguire un interazione usiamo il seguente comando:\n",
    "\n",
    "```python\n",
    "model = smf.ols(formula='y ~ C(var1) * C(var2)', data=df)\n",
    "```\n",
    "\n",
    "> Usare le interazioni se si crede che coppie di varibili si influenzino a vicenda o sono altamente correlate tra loro.\n",
    ">\n",
    "> L'interazione si usa solo a **coppie**, ma il numero di interazioni nel modello non è limitata."
   ]
  },
  {
   "cell_type": "code",
   "execution_count": 9,
   "metadata": {},
   "outputs": [
    {
     "name": "stdout",
     "output_type": "stream",
     "text": [
      "0    1794\n",
      "1    1288\n",
      "Name: gtlocation, dtype: int64\n",
      "                            OLS Regression Results                            \n",
      "==============================================================================\n",
      "Dep. Variable:                rentsqm   R-squared:                       0.116\n",
      "Model:                            OLS   Adj. R-squared:                  0.116\n",
      "Method:                 Least Squares   F-statistic:                     135.3\n",
      "Date:                Tue, 04 Apr 2023   Prob (F-statistic):           2.48e-82\n",
      "Time:                        17:02:33   Log-Likelihood:                -6925.9\n",
      "No. Observations:                3082   AIC:                         1.386e+04\n",
      "Df Residuals:                    3078   BIC:                         1.388e+04\n",
      "Df Model:                           3                                         \n",
      "Covariance Type:            nonrobust                                         \n",
      "=========================================================================================================\n",
      "                                            coef    std err          t      P>|t|      [0.025      0.975]\n",
      "---------------------------------------------------------------------------------------------------------\n",
      "Intercept                                 4.4320      0.192     23.054      0.000       4.055       4.809\n",
      "C(gtlocation)[T.1]                        0.6534      0.257      2.538      0.011       0.149       1.158\n",
      "C(cheating)[T.1.0]                        2.7415      0.200     13.685      0.000       2.349       3.134\n",
      "C(gtlocation)[T.1]:C(cheating)[T.1.0]    -0.1384      0.272     -0.508      0.611      -0.672       0.396\n",
      "==============================================================================\n",
      "Omnibus:                       59.456   Durbin-Watson:                   1.994\n",
      "Prob(Omnibus):                  0.000   Jarque-Bera (JB):               62.472\n",
      "Skew:                           0.347   Prob(JB):                     2.72e-14\n",
      "Kurtosis:                       3.078   Cond. No.                         15.7\n",
      "==============================================================================\n",
      "\n",
      "Notes:\n",
      "[1] Standard Errors assume that the covariance matrix of the errors is correctly specified.\n"
     ]
    }
   ],
   "source": [
    "# crea una nuova variabile che indica se la location è 2 o 3\n",
    "df['gtlocation'] = ((df['location'] == 2) | (df['location'] == 3)).astype(int)\n",
    "print(df['gtlocation'].value_counts())\n",
    "\n",
    "model = smf.ols(formula='rentsqm ~ C(gtlocation) * C(cheating)', data=df)\n",
    "results = model.fit()\n",
    "print(results.summary())"
   ]
  },
  {
   "attachments": {},
   "cell_type": "markdown",
   "metadata": {},
   "source": [
    "## Interpretazione\n",
    "\n",
    "L'interazione in sè per sè non ha interpretazione, è importante sapere che:\n",
    "\n",
    "1. Se utilizziamo il modello con interazione **NON** possiamo più interpretare i coefficienti delle covariate coinvolte nell'interazione.\n",
    "\n",
    "2. L'intercetta si riferisce alla base line del modello, cioè alla variabile dummy omessa. (In questo caso il volore al metro quadro di una casa avarege che non ha il riscaldamento centralizzato)"
   ]
  }
 ],
 "metadata": {
  "kernelspec": {
   "display_name": "DataMining",
   "language": "python",
   "name": "datamining"
  },
  "language_info": {
   "codemirror_mode": {
    "name": "ipython",
    "version": 3
   },
   "file_extension": ".py",
   "mimetype": "text/x-python",
   "name": "python",
   "nbconvert_exporter": "python",
   "pygments_lexer": "ipython3",
   "version": "3.11.2"
  },
  "orig_nbformat": 4
 },
 "nbformat": 4,
 "nbformat_minor": 2
}
